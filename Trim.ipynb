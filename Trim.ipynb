{
  "nbformat": 4,
  "nbformat_minor": 0,
  "metadata": {
    "colab": {
      "name": "Trim.ipynb",
      "version": "0.3.2",
      "provenance": [],
      "toc_visible": true
    },
    "kernelspec": {
      "name": "python3",
      "display_name": "Python 3"
    }
  },
  "cells": [
    {
      "cell_type": "markdown",
      "metadata": {
        "id": "kuuIpDVTkR8A",
        "colab_type": "text"
      },
      "source": [
        "# Trim"
      ]
    },
    {
      "cell_type": "code",
      "metadata": {
        "id": "MWkRkV9IkTXF",
        "colab_type": "code",
        "colab": {}
      },
      "source": [
        "import pandas as pd"
      ],
      "execution_count": 0,
      "outputs": []
    },
    {
      "cell_type": "code",
      "metadata": {
        "id": "qIzkblRikuLd",
        "colab_type": "code",
        "outputId": "a79047ed-db43-459e-ac6f-5b6018a86809",
        "colab": {
          "base_uri": "https://localhost:8080/",
          "height": 34
        }
      },
      "source": [
        "ls"
      ],
      "execution_count": 0,
      "outputs": [
        {
          "output_type": "stream",
          "text": [
            "c3.csv  \u001b[0m\u001b[01;34msample_data\u001b[0m/\n"
          ],
          "name": "stdout"
        }
      ]
    },
    {
      "cell_type": "code",
      "metadata": {
        "id": "zk24NTpbkgIP",
        "colab_type": "code",
        "colab": {}
      },
      "source": [
        "productos = pd.read_csv(\"c3.csv\", )"
      ],
      "execution_count": 0,
      "outputs": []
    },
    {
      "cell_type": "code",
      "metadata": {
        "id": "I4Pn_-nlk5pk",
        "colab_type": "code",
        "outputId": "65724e28-221c-4a5c-f515-725da3694aab",
        "colab": {
          "base_uri": "https://localhost:8080/",
          "height": 84
        }
      },
      "source": [
        "productos.columns"
      ],
      "execution_count": 0,
      "outputs": [
        {
          "output_type": "execute_result",
          "data": {
            "text/plain": [
              "Index(['Link', 'Producto', 'Por', 'Cantidades de comentarios', 'Precio',\n",
              "       'Precio recomendado', 'Nombre alternativo', 'Por usuario',\n",
              "       'Fecha de review', 'Titulo review', 'Review', 'Utilidad para personas'],\n",
              "      dtype='object')"
            ]
          },
          "metadata": {
            "tags": []
          },
          "execution_count": 5
        }
      ]
    },
    {
      "cell_type": "code",
      "metadata": {
        "id": "d3dk8RAvk8a9",
        "colab_type": "code",
        "colab": {}
      },
      "source": [
        "productos['Por'] = productos['Por'].astype('str')\n",
        "productos['Por'] = productos['Por'].replace(r'\\n',' ', regex=True)\n",
        "productos['Por'] = productos['Por'].map(lambda x: ' '.join(x.split()))"
      ],
      "execution_count": 0,
      "outputs": []
    },
    {
      "cell_type": "code",
      "metadata": {
        "id": "o7Z-N3eGssju",
        "colab_type": "code",
        "outputId": "7c946da3-59b5-41e2-dfa9-d72dde09b154",
        "colab": {
          "base_uri": "https://localhost:8080/",
          "height": 34
        }
      },
      "source": [
        "productos['Por'][2]"
      ],
      "execution_count": 0,
      "outputs": [
        {
          "output_type": "execute_result",
          "data": {
            "text/plain": [
              "'por Lenovo'"
            ]
          },
          "metadata": {
            "tags": []
          },
          "execution_count": 7
        }
      ]
    },
    {
      "cell_type": "code",
      "metadata": {
        "id": "WIVF8H0ppgOr",
        "colab_type": "code",
        "colab": {}
      },
      "source": [
        "productos['Por'] = productos['Por'].str.strip()"
      ],
      "execution_count": 0,
      "outputs": []
    },
    {
      "cell_type": "code",
      "metadata": {
        "id": "06_EI8YYsWHI",
        "colab_type": "code",
        "outputId": "8df83cc2-54e7-4dfb-a949-44f335058f5f",
        "colab": {
          "base_uri": "https://localhost:8080/",
          "height": 34
        }
      },
      "source": [
        "productos['Por'][2]"
      ],
      "execution_count": 0,
      "outputs": [
        {
          "output_type": "execute_result",
          "data": {
            "text/plain": [
              "'por Lenovo'"
            ]
          },
          "metadata": {
            "tags": []
          },
          "execution_count": 9
        }
      ]
    },
    {
      "cell_type": "code",
      "metadata": {
        "id": "tBhuwyz1uA_D",
        "colab_type": "code",
        "outputId": "95081f16-a831-4751-861a-cf95b93d7d0a",
        "colab": {
          "base_uri": "https://localhost:8080/",
          "height": 34
        }
      },
      "source": [
        "pwd"
      ],
      "execution_count": 0,
      "outputs": [
        {
          "output_type": "execute_result",
          "data": {
            "text/plain": [
              "'/content'"
            ]
          },
          "metadata": {
            "tags": []
          },
          "execution_count": 10
        }
      ]
    },
    {
      "cell_type": "code",
      "metadata": {
        "id": "bqBtY1zssq5T",
        "colab_type": "code",
        "colab": {}
      },
      "source": [
        "productos.to_csv('/content/l1.csv')"
      ],
      "execution_count": 0,
      "outputs": []
    }
  ]
}